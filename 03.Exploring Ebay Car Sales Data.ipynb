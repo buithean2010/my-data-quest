{
  "cells": [
    {
      "metadata": {
        "collapsed": true
      },
      "cell_type": "markdown",
      "source": "# Analyzing Used Car Listings on eBay Kleinanzeigen"
    },
    {
      "metadata": {},
      "cell_type": "markdown",
      "source": "In this project, we'll work with a dataset of used cars from eBay Kleinanzeigen, a [classifieds](https://en.wikipedia.org/wiki/Classified_advertising) section of the German eBay website.\n\nThe dataset was originally [scraped](https://en.wikipedia.org/wiki/Web_scraping) and uploaded to [Kaggle](https://www.kaggle.com/orgesleka/used-cars-database/data). We've made a few modifications from the original dataset that was uploaded to Kaggle:\n\n- We sampled 50,000 data points from the full dataset, to ensure the code runs quickly.\n\n- We dirtied the dataset a bit to more closely resemble what you would expect from a scraped dataset (the version uploaded to Kaggle was cleaned to be easier to work with).\n\nThe data dictionary provided with data is as follows:\n- *dateCrawled* - When this ad was first crawled. All field-values are taken from this date.\n- *name* - Name of the car.\n- *seller* - Whether the seller is private or a dealer.\n- *offerType* - The type of listing\n- *price* - The price on the ad to sell the car.\n- *abtest* - Whether the listing is included in an A/B test.\n- *vehicleType* - The vehicle Type.\n- *yearOfRegistration* - The year in which the car was first registered.\n- *gearbox* - The transmission type.\n- *powerPS* - The power of the car in PS.\n- *model* - The car model name.\n- *kilometer* - How many kilometers the car has driven.\n- *monthOfRegistration* - The month in which the car was first registered.\n- *fuelType* - What type of fuel the car uses.\n- *brand* - The brand of the car.\n- *notRepairedDamage* - If the car has a damage which is not yet repaired.\n- *dateCreated* - The date on which the eBay listing was created.\n- *nrOfPictures* - The number of pictures in the ad.\n- *postalCode* - The postal code for the location of the vehicle.\n- *lastSeenOnline* - When the crawler saw this ad last online.\n"
    },
    {
      "metadata": {},
      "cell_type": "markdown",
      "source": "The aim of this project is to clean the data and analyze the included used car listings. "
    },
    {
      "metadata": {
        "trusted": true
      },
      "cell_type": "code",
      "source": "import numpy as np\nimport pandas as pd\n\nautos = pd.read_csv(\"03_data/autos.csv\", encoding=\"Latin-1\")",
      "execution_count": 1,
      "outputs": []
    },
    {
      "metadata": {
        "trusted": true
      },
      "cell_type": "code",
      "source": "autos.info()\nautos.head()",
      "execution_count": 2,
      "outputs": [
        {
          "output_type": "stream",
          "text": "<class 'pandas.core.frame.DataFrame'>\nRangeIndex: 50000 entries, 0 to 49999\nData columns (total 20 columns):\ndateCrawled            50000 non-null object\nname                   50000 non-null object\nseller                 50000 non-null object\nofferType              50000 non-null object\nprice                  50000 non-null object\nabtest                 50000 non-null object\nvehicleType            44905 non-null object\nyearOfRegistration     50000 non-null int64\ngearbox                47320 non-null object\npowerPS                50000 non-null int64\nmodel                  47242 non-null object\nodometer               50000 non-null object\nmonthOfRegistration    50000 non-null int64\nfuelType               45518 non-null object\nbrand                  50000 non-null object\nnotRepairedDamage      40171 non-null object\ndateCreated            50000 non-null object\nnrOfPictures           50000 non-null int64\npostalCode             50000 non-null int64\nlastSeen               50000 non-null object\ndtypes: int64(5), object(15)\nmemory usage: 7.6+ MB\n",
          "name": "stdout"
        },
        {
          "output_type": "execute_result",
          "execution_count": 2,
          "data": {
            "text/html": "<div>\n<style scoped>\n    .dataframe tbody tr th:only-of-type {\n        vertical-align: middle;\n    }\n\n    .dataframe tbody tr th {\n        vertical-align: top;\n    }\n\n    .dataframe thead th {\n        text-align: right;\n    }\n</style>\n<table border=\"1\" class=\"dataframe\">\n  <thead>\n    <tr style=\"text-align: right;\">\n      <th></th>\n      <th>dateCrawled</th>\n      <th>name</th>\n      <th>seller</th>\n      <th>offerType</th>\n      <th>price</th>\n      <th>abtest</th>\n      <th>vehicleType</th>\n      <th>yearOfRegistration</th>\n      <th>gearbox</th>\n      <th>powerPS</th>\n      <th>model</th>\n      <th>odometer</th>\n      <th>monthOfRegistration</th>\n      <th>fuelType</th>\n      <th>brand</th>\n      <th>notRepairedDamage</th>\n      <th>dateCreated</th>\n      <th>nrOfPictures</th>\n      <th>postalCode</th>\n      <th>lastSeen</th>\n    </tr>\n  </thead>\n  <tbody>\n    <tr>\n      <th>0</th>\n      <td>2016-03-26 17:47:46</td>\n      <td>Peugeot_807_160_NAVTECH_ON_BOARD</td>\n      <td>privat</td>\n      <td>Angebot</td>\n      <td>$5,000</td>\n      <td>control</td>\n      <td>bus</td>\n      <td>2004</td>\n      <td>manuell</td>\n      <td>158</td>\n      <td>andere</td>\n      <td>150,000km</td>\n      <td>3</td>\n      <td>lpg</td>\n      <td>peugeot</td>\n      <td>nein</td>\n      <td>2016-03-26 00:00:00</td>\n      <td>0</td>\n      <td>79588</td>\n      <td>2016-04-06 06:45:54</td>\n    </tr>\n    <tr>\n      <th>1</th>\n      <td>2016-04-04 13:38:56</td>\n      <td>BMW_740i_4_4_Liter_HAMANN_UMBAU_Mega_Optik</td>\n      <td>privat</td>\n      <td>Angebot</td>\n      <td>$8,500</td>\n      <td>control</td>\n      <td>limousine</td>\n      <td>1997</td>\n      <td>automatik</td>\n      <td>286</td>\n      <td>7er</td>\n      <td>150,000km</td>\n      <td>6</td>\n      <td>benzin</td>\n      <td>bmw</td>\n      <td>nein</td>\n      <td>2016-04-04 00:00:00</td>\n      <td>0</td>\n      <td>71034</td>\n      <td>2016-04-06 14:45:08</td>\n    </tr>\n    <tr>\n      <th>2</th>\n      <td>2016-03-26 18:57:24</td>\n      <td>Volkswagen_Golf_1.6_United</td>\n      <td>privat</td>\n      <td>Angebot</td>\n      <td>$8,990</td>\n      <td>test</td>\n      <td>limousine</td>\n      <td>2009</td>\n      <td>manuell</td>\n      <td>102</td>\n      <td>golf</td>\n      <td>70,000km</td>\n      <td>7</td>\n      <td>benzin</td>\n      <td>volkswagen</td>\n      <td>nein</td>\n      <td>2016-03-26 00:00:00</td>\n      <td>0</td>\n      <td>35394</td>\n      <td>2016-04-06 20:15:37</td>\n    </tr>\n    <tr>\n      <th>3</th>\n      <td>2016-03-12 16:58:10</td>\n      <td>Smart_smart_fortwo_coupe_softouch/F1/Klima/Pan...</td>\n      <td>privat</td>\n      <td>Angebot</td>\n      <td>$4,350</td>\n      <td>control</td>\n      <td>kleinwagen</td>\n      <td>2007</td>\n      <td>automatik</td>\n      <td>71</td>\n      <td>fortwo</td>\n      <td>70,000km</td>\n      <td>6</td>\n      <td>benzin</td>\n      <td>smart</td>\n      <td>nein</td>\n      <td>2016-03-12 00:00:00</td>\n      <td>0</td>\n      <td>33729</td>\n      <td>2016-03-15 03:16:28</td>\n    </tr>\n    <tr>\n      <th>4</th>\n      <td>2016-04-01 14:38:50</td>\n      <td>Ford_Focus_1_6_Benzin_TÜV_neu_ist_sehr_gepfleg...</td>\n      <td>privat</td>\n      <td>Angebot</td>\n      <td>$1,350</td>\n      <td>test</td>\n      <td>kombi</td>\n      <td>2003</td>\n      <td>manuell</td>\n      <td>0</td>\n      <td>focus</td>\n      <td>150,000km</td>\n      <td>7</td>\n      <td>benzin</td>\n      <td>ford</td>\n      <td>nein</td>\n      <td>2016-04-01 00:00:00</td>\n      <td>0</td>\n      <td>39218</td>\n      <td>2016-04-01 14:38:50</td>\n    </tr>\n  </tbody>\n</table>\n</div>",
            "text/plain": "           dateCrawled                                               name  \\\n0  2016-03-26 17:47:46                   Peugeot_807_160_NAVTECH_ON_BOARD   \n1  2016-04-04 13:38:56         BMW_740i_4_4_Liter_HAMANN_UMBAU_Mega_Optik   \n2  2016-03-26 18:57:24                         Volkswagen_Golf_1.6_United   \n3  2016-03-12 16:58:10  Smart_smart_fortwo_coupe_softouch/F1/Klima/Pan...   \n4  2016-04-01 14:38:50  Ford_Focus_1_6_Benzin_TÜV_neu_ist_sehr_gepfleg...   \n\n   seller offerType   price   abtest vehicleType  yearOfRegistration  \\\n0  privat   Angebot  $5,000  control         bus                2004   \n1  privat   Angebot  $8,500  control   limousine                1997   \n2  privat   Angebot  $8,990     test   limousine                2009   \n3  privat   Angebot  $4,350  control  kleinwagen                2007   \n4  privat   Angebot  $1,350     test       kombi                2003   \n\n     gearbox  powerPS   model   odometer  monthOfRegistration fuelType  \\\n0    manuell      158  andere  150,000km                    3      lpg   \n1  automatik      286     7er  150,000km                    6   benzin   \n2    manuell      102    golf   70,000km                    7   benzin   \n3  automatik       71  fortwo   70,000km                    6   benzin   \n4    manuell        0   focus  150,000km                    7   benzin   \n\n        brand notRepairedDamage          dateCreated  nrOfPictures  \\\n0     peugeot              nein  2016-03-26 00:00:00             0   \n1         bmw              nein  2016-04-04 00:00:00             0   \n2  volkswagen              nein  2016-03-26 00:00:00             0   \n3       smart              nein  2016-03-12 00:00:00             0   \n4        ford              nein  2016-04-01 00:00:00             0   \n\n   postalCode             lastSeen  \n0       79588  2016-04-06 06:45:54  \n1       71034  2016-04-06 14:45:08  \n2       35394  2016-04-06 20:15:37  \n3       33729  2016-03-15 03:16:28  \n4       39218  2016-04-01 14:38:50  "
          },
          "metadata": {}
        }
      ]
    },
    {
      "metadata": {},
      "cell_type": "markdown",
      "source": "# Clean Columns"
    },
    {
      "metadata": {},
      "cell_type": "markdown",
      "source": "From the work we did in the last step, we can make the following observations:\n\n- The dataset contains 20 columns, most of which are strings.\n- Some columns have null values, but none have more than ~20% null values.\n- There are some columns that contain dates stored as strings.\n- The column names use camelcase instead of Python's preferred snakecase, which means we can't just replace spaces with underscores.\n\nLet's convert the column names from camelcase to snakecase and reword some of the column names based on the data dictionary to be more descriptive."
    },
    {
      "metadata": {
        "trusted": true
      },
      "cell_type": "code",
      "source": "autos.columns",
      "execution_count": 3,
      "outputs": [
        {
          "output_type": "execute_result",
          "execution_count": 3,
          "data": {
            "text/plain": "Index(['dateCrawled', 'name', 'seller', 'offerType', 'price', 'abtest',\n       'vehicleType', 'yearOfRegistration', 'gearbox', 'powerPS', 'model',\n       'odometer', 'monthOfRegistration', 'fuelType', 'brand',\n       'notRepairedDamage', 'dateCreated', 'nrOfPictures', 'postalCode',\n       'lastSeen'],\n      dtype='object')"
          },
          "metadata": {}
        }
      ]
    },
    {
      "metadata": {},
      "cell_type": "markdown",
      "source": "We'll make a few changes here:\n\n- Change the columns from camelcase to snakecase.\n- Change a few wordings to more accurately describe the columns."
    },
    {
      "metadata": {
        "trusted": true
      },
      "cell_type": "code",
      "source": "autos.columns = ['date_crawled', 'name', 'seller', 'offer_type', 'price', 'ab_test',\n       'vehicle_type', 'registration_year', 'gear_box', 'power_ps', 'model',\n       'odometer', 'registration_month', 'fuel_type', 'brand',\n       'unrepaired_damage', 'ad_created', 'num_photos', 'postal_code',\n       'last_seen']",
      "execution_count": 4,
      "outputs": []
    },
    {
      "metadata": {
        "trusted": true
      },
      "cell_type": "code",
      "source": "autos.head()",
      "execution_count": 5,
      "outputs": [
        {
          "output_type": "execute_result",
          "execution_count": 5,
          "data": {
            "text/html": "<div>\n<style scoped>\n    .dataframe tbody tr th:only-of-type {\n        vertical-align: middle;\n    }\n\n    .dataframe tbody tr th {\n        vertical-align: top;\n    }\n\n    .dataframe thead th {\n        text-align: right;\n    }\n</style>\n<table border=\"1\" class=\"dataframe\">\n  <thead>\n    <tr style=\"text-align: right;\">\n      <th></th>\n      <th>date_crawled</th>\n      <th>name</th>\n      <th>seller</th>\n      <th>offer_type</th>\n      <th>price</th>\n      <th>ab_test</th>\n      <th>vehicle_type</th>\n      <th>registration_year</th>\n      <th>gear_box</th>\n      <th>power_ps</th>\n      <th>model</th>\n      <th>odometer</th>\n      <th>registration_month</th>\n      <th>fuel_type</th>\n      <th>brand</th>\n      <th>unrepaired_damage</th>\n      <th>ad_created</th>\n      <th>num_photos</th>\n      <th>postal_code</th>\n      <th>last_seen</th>\n    </tr>\n  </thead>\n  <tbody>\n    <tr>\n      <th>0</th>\n      <td>2016-03-26 17:47:46</td>\n      <td>Peugeot_807_160_NAVTECH_ON_BOARD</td>\n      <td>privat</td>\n      <td>Angebot</td>\n      <td>$5,000</td>\n      <td>control</td>\n      <td>bus</td>\n      <td>2004</td>\n      <td>manuell</td>\n      <td>158</td>\n      <td>andere</td>\n      <td>150,000km</td>\n      <td>3</td>\n      <td>lpg</td>\n      <td>peugeot</td>\n      <td>nein</td>\n      <td>2016-03-26 00:00:00</td>\n      <td>0</td>\n      <td>79588</td>\n      <td>2016-04-06 06:45:54</td>\n    </tr>\n    <tr>\n      <th>1</th>\n      <td>2016-04-04 13:38:56</td>\n      <td>BMW_740i_4_4_Liter_HAMANN_UMBAU_Mega_Optik</td>\n      <td>privat</td>\n      <td>Angebot</td>\n      <td>$8,500</td>\n      <td>control</td>\n      <td>limousine</td>\n      <td>1997</td>\n      <td>automatik</td>\n      <td>286</td>\n      <td>7er</td>\n      <td>150,000km</td>\n      <td>6</td>\n      <td>benzin</td>\n      <td>bmw</td>\n      <td>nein</td>\n      <td>2016-04-04 00:00:00</td>\n      <td>0</td>\n      <td>71034</td>\n      <td>2016-04-06 14:45:08</td>\n    </tr>\n    <tr>\n      <th>2</th>\n      <td>2016-03-26 18:57:24</td>\n      <td>Volkswagen_Golf_1.6_United</td>\n      <td>privat</td>\n      <td>Angebot</td>\n      <td>$8,990</td>\n      <td>test</td>\n      <td>limousine</td>\n      <td>2009</td>\n      <td>manuell</td>\n      <td>102</td>\n      <td>golf</td>\n      <td>70,000km</td>\n      <td>7</td>\n      <td>benzin</td>\n      <td>volkswagen</td>\n      <td>nein</td>\n      <td>2016-03-26 00:00:00</td>\n      <td>0</td>\n      <td>35394</td>\n      <td>2016-04-06 20:15:37</td>\n    </tr>\n    <tr>\n      <th>3</th>\n      <td>2016-03-12 16:58:10</td>\n      <td>Smart_smart_fortwo_coupe_softouch/F1/Klima/Pan...</td>\n      <td>privat</td>\n      <td>Angebot</td>\n      <td>$4,350</td>\n      <td>control</td>\n      <td>kleinwagen</td>\n      <td>2007</td>\n      <td>automatik</td>\n      <td>71</td>\n      <td>fortwo</td>\n      <td>70,000km</td>\n      <td>6</td>\n      <td>benzin</td>\n      <td>smart</td>\n      <td>nein</td>\n      <td>2016-03-12 00:00:00</td>\n      <td>0</td>\n      <td>33729</td>\n      <td>2016-03-15 03:16:28</td>\n    </tr>\n    <tr>\n      <th>4</th>\n      <td>2016-04-01 14:38:50</td>\n      <td>Ford_Focus_1_6_Benzin_TÜV_neu_ist_sehr_gepfleg...</td>\n      <td>privat</td>\n      <td>Angebot</td>\n      <td>$1,350</td>\n      <td>test</td>\n      <td>kombi</td>\n      <td>2003</td>\n      <td>manuell</td>\n      <td>0</td>\n      <td>focus</td>\n      <td>150,000km</td>\n      <td>7</td>\n      <td>benzin</td>\n      <td>ford</td>\n      <td>nein</td>\n      <td>2016-04-01 00:00:00</td>\n      <td>0</td>\n      <td>39218</td>\n      <td>2016-04-01 14:38:50</td>\n    </tr>\n  </tbody>\n</table>\n</div>",
            "text/plain": "          date_crawled                                               name  \\\n0  2016-03-26 17:47:46                   Peugeot_807_160_NAVTECH_ON_BOARD   \n1  2016-04-04 13:38:56         BMW_740i_4_4_Liter_HAMANN_UMBAU_Mega_Optik   \n2  2016-03-26 18:57:24                         Volkswagen_Golf_1.6_United   \n3  2016-03-12 16:58:10  Smart_smart_fortwo_coupe_softouch/F1/Klima/Pan...   \n4  2016-04-01 14:38:50  Ford_Focus_1_6_Benzin_TÜV_neu_ist_sehr_gepfleg...   \n\n   seller offer_type   price  ab_test vehicle_type  registration_year  \\\n0  privat    Angebot  $5,000  control          bus               2004   \n1  privat    Angebot  $8,500  control    limousine               1997   \n2  privat    Angebot  $8,990     test    limousine               2009   \n3  privat    Angebot  $4,350  control   kleinwagen               2007   \n4  privat    Angebot  $1,350     test        kombi               2003   \n\n    gear_box  power_ps   model   odometer  registration_month fuel_type  \\\n0    manuell       158  andere  150,000km                   3       lpg   \n1  automatik       286     7er  150,000km                   6    benzin   \n2    manuell       102    golf   70,000km                   7    benzin   \n3  automatik        71  fortwo   70,000km                   6    benzin   \n4    manuell         0   focus  150,000km                   7    benzin   \n\n        brand unrepaired_damage           ad_created  num_photos  postal_code  \\\n0     peugeot              nein  2016-03-26 00:00:00           0        79588   \n1         bmw              nein  2016-04-04 00:00:00           0        71034   \n2  volkswagen              nein  2016-03-26 00:00:00           0        35394   \n3       smart              nein  2016-03-12 00:00:00           0        33729   \n4        ford              nein  2016-04-01 00:00:00           0        39218   \n\n             last_seen  \n0  2016-04-06 06:45:54  \n1  2016-04-06 14:45:08  \n2  2016-04-06 20:15:37  \n3  2016-03-15 03:16:28  \n4  2016-04-01 14:38:50  "
          },
          "metadata": {}
        }
      ]
    },
    {
      "metadata": {},
      "cell_type": "markdown",
      "source": "# Initial Data Exploration and Cleaning"
    },
    {
      "metadata": {},
      "cell_type": "markdown",
      "source": "We'll start by exploring the data to find obvious areas where we can clean the data."
    },
    {
      "metadata": {
        "trusted": true
      },
      "cell_type": "code",
      "source": "autos.describe(include='all')",
      "execution_count": 6,
      "outputs": [
        {
          "output_type": "execute_result",
          "execution_count": 6,
          "data": {
            "text/html": "<div>\n<style scoped>\n    .dataframe tbody tr th:only-of-type {\n        vertical-align: middle;\n    }\n\n    .dataframe tbody tr th {\n        vertical-align: top;\n    }\n\n    .dataframe thead th {\n        text-align: right;\n    }\n</style>\n<table border=\"1\" class=\"dataframe\">\n  <thead>\n    <tr style=\"text-align: right;\">\n      <th></th>\n      <th>date_crawled</th>\n      <th>name</th>\n      <th>seller</th>\n      <th>offer_type</th>\n      <th>price</th>\n      <th>ab_test</th>\n      <th>vehicle_type</th>\n      <th>registration_year</th>\n      <th>gear_box</th>\n      <th>power_ps</th>\n      <th>model</th>\n      <th>odometer</th>\n      <th>registration_month</th>\n      <th>fuel_type</th>\n      <th>brand</th>\n      <th>unrepaired_damage</th>\n      <th>ad_created</th>\n      <th>num_photos</th>\n      <th>postal_code</th>\n      <th>last_seen</th>\n    </tr>\n  </thead>\n  <tbody>\n    <tr>\n      <th>count</th>\n      <td>50000</td>\n      <td>50000</td>\n      <td>50000</td>\n      <td>50000</td>\n      <td>50000</td>\n      <td>50000</td>\n      <td>44905</td>\n      <td>50000.000000</td>\n      <td>47320</td>\n      <td>50000.000000</td>\n      <td>47242</td>\n      <td>50000</td>\n      <td>50000.000000</td>\n      <td>45518</td>\n      <td>50000</td>\n      <td>40171</td>\n      <td>50000</td>\n      <td>50000.0</td>\n      <td>50000.000000</td>\n      <td>50000</td>\n    </tr>\n    <tr>\n      <th>unique</th>\n      <td>48213</td>\n      <td>38754</td>\n      <td>2</td>\n      <td>2</td>\n      <td>2357</td>\n      <td>2</td>\n      <td>8</td>\n      <td>NaN</td>\n      <td>2</td>\n      <td>NaN</td>\n      <td>245</td>\n      <td>13</td>\n      <td>NaN</td>\n      <td>7</td>\n      <td>40</td>\n      <td>2</td>\n      <td>76</td>\n      <td>NaN</td>\n      <td>NaN</td>\n      <td>39481</td>\n    </tr>\n    <tr>\n      <th>top</th>\n      <td>2016-03-11 22:38:16</td>\n      <td>Ford_Fiesta</td>\n      <td>privat</td>\n      <td>Angebot</td>\n      <td>$0</td>\n      <td>test</td>\n      <td>limousine</td>\n      <td>NaN</td>\n      <td>manuell</td>\n      <td>NaN</td>\n      <td>golf</td>\n      <td>150,000km</td>\n      <td>NaN</td>\n      <td>benzin</td>\n      <td>volkswagen</td>\n      <td>nein</td>\n      <td>2016-04-03 00:00:00</td>\n      <td>NaN</td>\n      <td>NaN</td>\n      <td>2016-04-07 06:17:27</td>\n    </tr>\n    <tr>\n      <th>freq</th>\n      <td>3</td>\n      <td>78</td>\n      <td>49999</td>\n      <td>49999</td>\n      <td>1421</td>\n      <td>25756</td>\n      <td>12859</td>\n      <td>NaN</td>\n      <td>36993</td>\n      <td>NaN</td>\n      <td>4024</td>\n      <td>32424</td>\n      <td>NaN</td>\n      <td>30107</td>\n      <td>10687</td>\n      <td>35232</td>\n      <td>1946</td>\n      <td>NaN</td>\n      <td>NaN</td>\n      <td>8</td>\n    </tr>\n    <tr>\n      <th>mean</th>\n      <td>NaN</td>\n      <td>NaN</td>\n      <td>NaN</td>\n      <td>NaN</td>\n      <td>NaN</td>\n      <td>NaN</td>\n      <td>NaN</td>\n      <td>2005.073280</td>\n      <td>NaN</td>\n      <td>116.355920</td>\n      <td>NaN</td>\n      <td>NaN</td>\n      <td>5.723360</td>\n      <td>NaN</td>\n      <td>NaN</td>\n      <td>NaN</td>\n      <td>NaN</td>\n      <td>0.0</td>\n      <td>50813.627300</td>\n      <td>NaN</td>\n    </tr>\n    <tr>\n      <th>std</th>\n      <td>NaN</td>\n      <td>NaN</td>\n      <td>NaN</td>\n      <td>NaN</td>\n      <td>NaN</td>\n      <td>NaN</td>\n      <td>NaN</td>\n      <td>105.712813</td>\n      <td>NaN</td>\n      <td>209.216627</td>\n      <td>NaN</td>\n      <td>NaN</td>\n      <td>3.711984</td>\n      <td>NaN</td>\n      <td>NaN</td>\n      <td>NaN</td>\n      <td>NaN</td>\n      <td>0.0</td>\n      <td>25779.747957</td>\n      <td>NaN</td>\n    </tr>\n    <tr>\n      <th>min</th>\n      <td>NaN</td>\n      <td>NaN</td>\n      <td>NaN</td>\n      <td>NaN</td>\n      <td>NaN</td>\n      <td>NaN</td>\n      <td>NaN</td>\n      <td>1000.000000</td>\n      <td>NaN</td>\n      <td>0.000000</td>\n      <td>NaN</td>\n      <td>NaN</td>\n      <td>0.000000</td>\n      <td>NaN</td>\n      <td>NaN</td>\n      <td>NaN</td>\n      <td>NaN</td>\n      <td>0.0</td>\n      <td>1067.000000</td>\n      <td>NaN</td>\n    </tr>\n    <tr>\n      <th>25%</th>\n      <td>NaN</td>\n      <td>NaN</td>\n      <td>NaN</td>\n      <td>NaN</td>\n      <td>NaN</td>\n      <td>NaN</td>\n      <td>NaN</td>\n      <td>1999.000000</td>\n      <td>NaN</td>\n      <td>70.000000</td>\n      <td>NaN</td>\n      <td>NaN</td>\n      <td>3.000000</td>\n      <td>NaN</td>\n      <td>NaN</td>\n      <td>NaN</td>\n      <td>NaN</td>\n      <td>0.0</td>\n      <td>30451.000000</td>\n      <td>NaN</td>\n    </tr>\n    <tr>\n      <th>50%</th>\n      <td>NaN</td>\n      <td>NaN</td>\n      <td>NaN</td>\n      <td>NaN</td>\n      <td>NaN</td>\n      <td>NaN</td>\n      <td>NaN</td>\n      <td>2003.000000</td>\n      <td>NaN</td>\n      <td>105.000000</td>\n      <td>NaN</td>\n      <td>NaN</td>\n      <td>6.000000</td>\n      <td>NaN</td>\n      <td>NaN</td>\n      <td>NaN</td>\n      <td>NaN</td>\n      <td>0.0</td>\n      <td>49577.000000</td>\n      <td>NaN</td>\n    </tr>\n    <tr>\n      <th>75%</th>\n      <td>NaN</td>\n      <td>NaN</td>\n      <td>NaN</td>\n      <td>NaN</td>\n      <td>NaN</td>\n      <td>NaN</td>\n      <td>NaN</td>\n      <td>2008.000000</td>\n      <td>NaN</td>\n      <td>150.000000</td>\n      <td>NaN</td>\n      <td>NaN</td>\n      <td>9.000000</td>\n      <td>NaN</td>\n      <td>NaN</td>\n      <td>NaN</td>\n      <td>NaN</td>\n      <td>0.0</td>\n      <td>71540.000000</td>\n      <td>NaN</td>\n    </tr>\n    <tr>\n      <th>max</th>\n      <td>NaN</td>\n      <td>NaN</td>\n      <td>NaN</td>\n      <td>NaN</td>\n      <td>NaN</td>\n      <td>NaN</td>\n      <td>NaN</td>\n      <td>9999.000000</td>\n      <td>NaN</td>\n      <td>17700.000000</td>\n      <td>NaN</td>\n      <td>NaN</td>\n      <td>12.000000</td>\n      <td>NaN</td>\n      <td>NaN</td>\n      <td>NaN</td>\n      <td>NaN</td>\n      <td>0.0</td>\n      <td>99998.000000</td>\n      <td>NaN</td>\n    </tr>\n  </tbody>\n</table>\n</div>",
            "text/plain": "               date_crawled         name  seller offer_type  price ab_test  \\\ncount                 50000        50000   50000      50000  50000   50000   \nunique                48213        38754       2          2   2357       2   \ntop     2016-03-11 22:38:16  Ford_Fiesta  privat    Angebot     $0    test   \nfreq                      3           78   49999      49999   1421   25756   \nmean                    NaN          NaN     NaN        NaN    NaN     NaN   \nstd                     NaN          NaN     NaN        NaN    NaN     NaN   \nmin                     NaN          NaN     NaN        NaN    NaN     NaN   \n25%                     NaN          NaN     NaN        NaN    NaN     NaN   \n50%                     NaN          NaN     NaN        NaN    NaN     NaN   \n75%                     NaN          NaN     NaN        NaN    NaN     NaN   \nmax                     NaN          NaN     NaN        NaN    NaN     NaN   \n\n       vehicle_type  registration_year gear_box      power_ps  model  \\\ncount         44905       50000.000000    47320  50000.000000  47242   \nunique            8                NaN        2           NaN    245   \ntop       limousine                NaN  manuell           NaN   golf   \nfreq          12859                NaN    36993           NaN   4024   \nmean            NaN        2005.073280      NaN    116.355920    NaN   \nstd             NaN         105.712813      NaN    209.216627    NaN   \nmin             NaN        1000.000000      NaN      0.000000    NaN   \n25%             NaN        1999.000000      NaN     70.000000    NaN   \n50%             NaN        2003.000000      NaN    105.000000    NaN   \n75%             NaN        2008.000000      NaN    150.000000    NaN   \nmax             NaN        9999.000000      NaN  17700.000000    NaN   \n\n         odometer  registration_month fuel_type       brand unrepaired_damage  \\\ncount       50000        50000.000000     45518       50000             40171   \nunique         13                 NaN         7          40                 2   \ntop     150,000km                 NaN    benzin  volkswagen              nein   \nfreq        32424                 NaN     30107       10687             35232   \nmean          NaN            5.723360       NaN         NaN               NaN   \nstd           NaN            3.711984       NaN         NaN               NaN   \nmin           NaN            0.000000       NaN         NaN               NaN   \n25%           NaN            3.000000       NaN         NaN               NaN   \n50%           NaN            6.000000       NaN         NaN               NaN   \n75%           NaN            9.000000       NaN         NaN               NaN   \nmax           NaN           12.000000       NaN         NaN               NaN   \n\n                 ad_created  num_photos   postal_code            last_seen  \ncount                 50000     50000.0  50000.000000                50000  \nunique                   76         NaN           NaN                39481  \ntop     2016-04-03 00:00:00         NaN           NaN  2016-04-07 06:17:27  \nfreq                   1946         NaN           NaN                    8  \nmean                    NaN         0.0  50813.627300                  NaN  \nstd                     NaN         0.0  25779.747957                  NaN  \nmin                     NaN         0.0   1067.000000                  NaN  \n25%                     NaN         0.0  30451.000000                  NaN  \n50%                     NaN         0.0  49577.000000                  NaN  \n75%                     NaN         0.0  71540.000000                  NaN  \nmax                     NaN         0.0  99998.000000                  NaN  "
          },
          "metadata": {}
        }
      ]
    },
    {
      "metadata": {},
      "cell_type": "markdown",
      "source": "Our initial observations:\n\n- There are a number of text columns where all (or nearly all) of the values are the same:\n    - seller\n    - offer_type\n- The num_photos column looks odd, we'll need to investigate this further."
    },
    {
      "metadata": {
        "trusted": true
      },
      "cell_type": "code",
      "source": "autos[\"num_photos\"].value_counts()",
      "execution_count": 7,
      "outputs": [
        {
          "output_type": "execute_result",
          "execution_count": 7,
          "data": {
            "text/plain": "0    50000\nName: num_photos, dtype: int64"
          },
          "metadata": {}
        }
      ]
    },
    {
      "metadata": {},
      "cell_type": "markdown",
      "source": "It looks like the num_photos column has 0 for every column. We'll drop this column, plus the other two we noted as mostly one value."
    },
    {
      "metadata": {
        "trusted": true
      },
      "cell_type": "code",
      "source": "autos = autos.drop([\"num_photos\", \"seller\", \"offer_type\"], axis=1)",
      "execution_count": 8,
      "outputs": []
    },
    {
      "metadata": {},
      "cell_type": "markdown",
      "source": "price and odometer columns are numeric values stored as text. For each column:\n- Remove any non-numeric characters.\n- Convert the column to a numeric dtype."
    },
    {
      "metadata": {
        "trusted": true
      },
      "cell_type": "code",
      "source": "autos[\"price\"] = autos[\"price\"].str.replace(\"$\", \"\").str.replace(\",\", \"\").astype(float)\nautos[\"price\"].head()",
      "execution_count": 9,
      "outputs": [
        {
          "output_type": "execute_result",
          "execution_count": 9,
          "data": {
            "text/plain": "0    5000.0\n1    8500.0\n2    8990.0\n3    4350.0\n4    1350.0\nName: price, dtype: float64"
          },
          "metadata": {}
        }
      ]
    },
    {
      "metadata": {
        "trusted": true
      },
      "cell_type": "code",
      "source": "autos[\"odometer\"] = autos[\"odometer\"].str.replace(\"km\", \"\").str.replace(\",\", \"\").astype(float)\n\nautos.rename(columns ={\"odometer\": \"odometer_km\"}, inplace=True)\n\nautos[\"odometer_km\"].head()",
      "execution_count": 10,
      "outputs": [
        {
          "output_type": "execute_result",
          "execution_count": 10,
          "data": {
            "text/plain": "0    150000.0\n1    150000.0\n2     70000.0\n3     70000.0\n4    150000.0\nName: odometer_km, dtype: float64"
          },
          "metadata": {}
        }
      ]
    },
    {
      "metadata": {},
      "cell_type": "markdown",
      "source": "# Exploring Odometer and Price"
    },
    {
      "metadata": {
        "trusted": true
      },
      "cell_type": "code",
      "source": "autos[\"odometer_km\"].value_counts()",
      "execution_count": 11,
      "outputs": [
        {
          "output_type": "execute_result",
          "execution_count": 11,
          "data": {
            "text/plain": "150000.0    32424\n125000.0     5170\n100000.0     2169\n90000.0      1757\n80000.0      1436\n70000.0      1230\n60000.0      1164\n50000.0      1027\n5000.0        967\n40000.0       819\n30000.0       789\n20000.0       784\n10000.0       264\nName: odometer_km, dtype: int64"
          },
          "metadata": {}
        }
      ]
    },
    {
      "metadata": {},
      "cell_type": "markdown",
      "source": "We can see that the values in this field are rounded, which might indicate that sellers had to choose from pre-set options for this field.\nAdditionally, there are more high mileage than low mileage vehicles."
    },
    {
      "metadata": {
        "trusted": true
      },
      "cell_type": "code",
      "source": "print(autos[\"price\"].unique().shape)\nprint(autos[\"price\"].describe())\nautos[\"price\"].value_counts().head(20)",
      "execution_count": 12,
      "outputs": [
        {
          "output_type": "stream",
          "text": "(2357,)\ncount    5.000000e+04\nmean     9.840044e+03\nstd      4.811044e+05\nmin      0.000000e+00\n25%      1.100000e+03\n50%      2.950000e+03\n75%      7.200000e+03\nmax      1.000000e+08\nName: price, dtype: float64\n",
          "name": "stdout"
        },
        {
          "output_type": "execute_result",
          "execution_count": 12,
          "data": {
            "text/plain": "0.0       1421\n500.0      781\n1500.0     734\n2500.0     643\n1200.0     639\n1000.0     639\n600.0      531\n800.0      498\n3500.0     498\n2000.0     460\n999.0      434\n750.0      433\n900.0      420\n650.0      419\n850.0      410\n700.0      395\n4500.0     394\n300.0      384\n2200.0     382\n950.0      379\nName: price, dtype: int64"
          },
          "metadata": {}
        }
      ]
    },
    {
      "metadata": {},
      "cell_type": "markdown",
      "source": "Again, the prices in this column seem rounded, however given there are 2357 unique values in the column, that may just be people's tendency to round prices on the site.\n\nThere are 1,421 cars listed with $0 price - given that this is only 2% of the of the cars, we might consider removing these rows. The maximum price is one hundred million dollars, which seems a lot, let's look at the highest prices further."
    },
    {
      "metadata": {
        "trusted": true
      },
      "cell_type": "code",
      "source": "autos[\"price\"].value_counts().sort_index(ascending=False).head(20)",
      "execution_count": 13,
      "outputs": [
        {
          "output_type": "execute_result",
          "execution_count": 13,
          "data": {
            "text/plain": "99999999.0    1\n27322222.0    1\n12345678.0    3\n11111111.0    2\n10000000.0    1\n3890000.0     1\n1300000.0     1\n1234566.0     1\n999999.0      2\n999990.0      1\n350000.0      1\n345000.0      1\n299000.0      1\n295000.0      1\n265000.0      1\n259000.0      1\n250000.0      1\n220000.0      1\n198000.0      1\n197000.0      1\nName: price, dtype: int64"
          },
          "metadata": {}
        }
      ]
    },
    {
      "metadata": {
        "trusted": true
      },
      "cell_type": "code",
      "source": "autos[\"price\"].value_counts().sort_index(ascending=True).head(20)",
      "execution_count": 14,
      "outputs": [
        {
          "output_type": "execute_result",
          "execution_count": 14,
          "data": {
            "text/plain": "0.0     1421\n1.0      156\n2.0        3\n3.0        1\n5.0        2\n8.0        1\n9.0        1\n10.0       7\n11.0       2\n12.0       3\n13.0       2\n14.0       1\n15.0       2\n17.0       3\n18.0       1\n20.0       4\n25.0       5\n29.0       1\n30.0       7\n35.0       1\nName: price, dtype: int64"
          },
          "metadata": {}
        }
      ]
    },
    {
      "metadata": {},
      "cell_type": "markdown",
      "source": "There are a number of listings with prices below \\$30, including about 1,500 at \\$0. There are also a small number of listings with very high values, including 14 at around or over $1 million.\n\nGiven that eBay is an auction site, there could legitimately be items where the opening bid is \\$1. We will keep the \\$1 items, but remove anything above \\$350,000, since it seems that prices increase steadily to that number and then jump up to less realistic numbers."
    },
    {
      "metadata": {
        "trusted": true
      },
      "cell_type": "code",
      "source": "autos = autos[autos[\"price\"].between(1,351000)]\nautos[\"price\"].describe()",
      "execution_count": 15,
      "outputs": [
        {
          "output_type": "execute_result",
          "execution_count": 15,
          "data": {
            "text/plain": "count     48565.000000\nmean       5888.935591\nstd        9059.854754\nmin           1.000000\n25%        1200.000000\n50%        3000.000000\n75%        7490.000000\nmax      350000.000000\nName: price, dtype: float64"
          },
          "metadata": {}
        }
      ]
    },
    {
      "metadata": {},
      "cell_type": "markdown",
      "source": "# Exploring the date columns"
    },
    {
      "metadata": {},
      "cell_type": "markdown",
      "source": "There are a number of columns with date information:\n\n- date_crawled\n- registration_month\n- registration_year\n- ad_created\n- last_seen"
    },
    {
      "metadata": {},
      "cell_type": "markdown",
      "source": "These are a combination of dates that were crawled, and dates with meta-information from the crawler. The non-registration dates are stored as strings.\n\nWe'll explore each of these columns to learn more about the listings."
    },
    {
      "metadata": {
        "trusted": true
      },
      "cell_type": "code",
      "source": "autos[['date_crawled','ad_created','last_seen']][0:5]",
      "execution_count": 16,
      "outputs": [
        {
          "output_type": "execute_result",
          "execution_count": 16,
          "data": {
            "text/html": "<div>\n<style scoped>\n    .dataframe tbody tr th:only-of-type {\n        vertical-align: middle;\n    }\n\n    .dataframe tbody tr th {\n        vertical-align: top;\n    }\n\n    .dataframe thead th {\n        text-align: right;\n    }\n</style>\n<table border=\"1\" class=\"dataframe\">\n  <thead>\n    <tr style=\"text-align: right;\">\n      <th></th>\n      <th>date_crawled</th>\n      <th>ad_created</th>\n      <th>last_seen</th>\n    </tr>\n  </thead>\n  <tbody>\n    <tr>\n      <th>0</th>\n      <td>2016-03-26 17:47:46</td>\n      <td>2016-03-26 00:00:00</td>\n      <td>2016-04-06 06:45:54</td>\n    </tr>\n    <tr>\n      <th>1</th>\n      <td>2016-04-04 13:38:56</td>\n      <td>2016-04-04 00:00:00</td>\n      <td>2016-04-06 14:45:08</td>\n    </tr>\n    <tr>\n      <th>2</th>\n      <td>2016-03-26 18:57:24</td>\n      <td>2016-03-26 00:00:00</td>\n      <td>2016-04-06 20:15:37</td>\n    </tr>\n    <tr>\n      <th>3</th>\n      <td>2016-03-12 16:58:10</td>\n      <td>2016-03-12 00:00:00</td>\n      <td>2016-03-15 03:16:28</td>\n    </tr>\n    <tr>\n      <th>4</th>\n      <td>2016-04-01 14:38:50</td>\n      <td>2016-04-01 00:00:00</td>\n      <td>2016-04-01 14:38:50</td>\n    </tr>\n  </tbody>\n</table>\n</div>",
            "text/plain": "          date_crawled           ad_created            last_seen\n0  2016-03-26 17:47:46  2016-03-26 00:00:00  2016-04-06 06:45:54\n1  2016-04-04 13:38:56  2016-04-04 00:00:00  2016-04-06 14:45:08\n2  2016-03-26 18:57:24  2016-03-26 00:00:00  2016-04-06 20:15:37\n3  2016-03-12 16:58:10  2016-03-12 00:00:00  2016-03-15 03:16:28\n4  2016-04-01 14:38:50  2016-04-01 00:00:00  2016-04-01 14:38:50"
          },
          "metadata": {}
        }
      ]
    },
    {
      "metadata": {
        "trusted": true
      },
      "cell_type": "markdown",
      "source": "Let's calculate the distribution of values in the date_crawled, ad_created, and last_seen columns (all string columns) as percentages."
    },
    {
      "metadata": {
        "trusted": true
      },
      "cell_type": "code",
      "source": "(autos[\"date_crawled\"].value_counts(normalize=True, dropna=False).sort_index())",
      "execution_count": 18,
      "outputs": [
        {
          "output_type": "execute_result",
          "execution_count": 18,
          "data": {
            "text/plain": "2016-03-05 14:06:30    0.000021\n2016-03-05 14:06:40    0.000021\n2016-03-05 14:07:04    0.000021\n2016-03-05 14:07:08    0.000021\n2016-03-05 14:07:21    0.000021\n2016-03-05 14:07:26    0.000021\n2016-03-05 14:07:40    0.000021\n2016-03-05 14:07:45    0.000021\n2016-03-05 14:08:00    0.000041\n2016-03-05 14:08:05    0.000041\n2016-03-05 14:08:27    0.000021\n2016-03-05 14:08:42    0.000021\n2016-03-05 14:09:02    0.000041\n2016-03-05 14:09:05    0.000021\n2016-03-05 14:09:20    0.000021\n2016-03-05 14:09:22    0.000021\n2016-03-05 14:09:38    0.000021\n2016-03-05 14:09:46    0.000021\n2016-03-05 14:09:56    0.000021\n2016-03-05 14:09:57    0.000021\n2016-03-05 14:09:58    0.000041\n2016-03-05 14:10:18    0.000021\n2016-03-05 14:10:20    0.000021\n2016-03-05 14:10:46    0.000021\n2016-03-05 14:11:03    0.000021\n2016-03-05 14:11:05    0.000021\n2016-03-05 14:11:14    0.000021\n2016-03-05 14:11:15    0.000021\n2016-03-05 14:11:25    0.000021\n2016-03-05 14:11:40    0.000021\n                         ...   \n2016-04-07 10:36:17    0.000021\n2016-04-07 10:36:19    0.000021\n2016-04-07 10:36:24    0.000021\n2016-04-07 10:36:25    0.000021\n2016-04-07 10:36:35    0.000021\n2016-04-07 10:36:36    0.000021\n2016-04-07 10:36:37    0.000041\n2016-04-07 11:06:33    0.000021\n2016-04-07 11:36:19    0.000021\n2016-04-07 11:36:23    0.000021\n2016-04-07 11:36:24    0.000021\n2016-04-07 11:36:25    0.000021\n2016-04-07 11:36:34    0.000041\n2016-04-07 11:36:35    0.000021\n2016-04-07 12:06:19    0.000021\n2016-04-07 12:06:23    0.000021\n2016-04-07 12:25:34    0.000021\n2016-04-07 12:25:35    0.000021\n2016-04-07 13:06:18    0.000021\n2016-04-07 13:25:39    0.000021\n2016-04-07 13:36:19    0.000021\n2016-04-07 13:36:20    0.000021\n2016-04-07 13:36:37    0.000021\n2016-04-07 13:36:38    0.000021\n2016-04-07 14:07:04    0.000021\n2016-04-07 14:30:09    0.000021\n2016-04-07 14:30:26    0.000021\n2016-04-07 14:36:44    0.000021\n2016-04-07 14:36:55    0.000021\n2016-04-07 14:36:56    0.000021\nName: date_crawled, Length: 46882, dtype: float64"
          },
          "metadata": {}
        }
      ]
    },
    {
      "metadata": {
        "trusted": true
      },
      "cell_type": "code",
      "source": "(autos[\"date_crawled\"].str[:10].value_counts(normalize=True, dropna=False).sort_index())",
      "execution_count": 20,
      "outputs": [
        {
          "output_type": "execute_result",
          "execution_count": 20,
          "data": {
            "text/plain": "2016-03-05    0.025327\n2016-03-06    0.014043\n2016-03-07    0.036014\n2016-03-08    0.033296\n2016-03-09    0.033090\n2016-03-10    0.032184\n2016-03-11    0.032575\n2016-03-12    0.036920\n2016-03-13    0.015670\n2016-03-14    0.036549\n2016-03-15    0.034284\n2016-03-16    0.029610\n2016-03-17    0.031628\n2016-03-18    0.012911\n2016-03-19    0.034778\n2016-03-20    0.037887\n2016-03-21    0.037373\n2016-03-22    0.032987\n2016-03-23    0.032225\n2016-03-24    0.029342\n2016-03-25    0.031607\n2016-03-26    0.032204\n2016-03-27    0.031092\n2016-03-28    0.034860\n2016-03-29    0.034099\n2016-03-30    0.033687\n2016-03-31    0.031834\n2016-04-01    0.033687\n2016-04-02    0.035478\n2016-04-03    0.038608\n2016-04-04    0.036487\n2016-04-05    0.013096\n2016-04-06    0.003171\n2016-04-07    0.001400\nName: date_crawled, dtype: float64"
          },
          "metadata": {}
        }
      ]
    },
    {
      "metadata": {},
      "cell_type": "markdown",
      "source": "Looks like the site was crawled daily over roughly a one month period in March and April 2016. The distribution of listings crawled on each day is roughly uniform."
    },
    {
      "metadata": {
        "trusted": true
      },
      "cell_type": "code",
      "source": "(autos[\"last_seen\"]\n        .str[:10]\n        .value_counts(normalize=True, dropna=False)\n        .sort_index()\n        )",
      "execution_count": 21,
      "outputs": [
        {
          "output_type": "execute_result",
          "execution_count": 21,
          "data": {
            "text/plain": "2016-03-05    0.001071\n2016-03-06    0.004324\n2016-03-07    0.005395\n2016-03-08    0.007413\n2016-03-09    0.009595\n2016-03-10    0.010666\n2016-03-11    0.012375\n2016-03-12    0.023783\n2016-03-13    0.008895\n2016-03-14    0.012602\n2016-03-15    0.015876\n2016-03-16    0.016452\n2016-03-17    0.028086\n2016-03-18    0.007351\n2016-03-19    0.015834\n2016-03-20    0.020653\n2016-03-21    0.020632\n2016-03-22    0.021373\n2016-03-23    0.018532\n2016-03-24    0.019767\n2016-03-25    0.019211\n2016-03-26    0.016802\n2016-03-27    0.015649\n2016-03-28    0.020859\n2016-03-29    0.022341\n2016-03-30    0.024771\n2016-03-31    0.023783\n2016-04-01    0.022794\n2016-04-02    0.024915\n2016-04-03    0.025203\n2016-04-04    0.024483\n2016-04-05    0.124761\n2016-04-06    0.221806\n2016-04-07    0.131947\nName: last_seen, dtype: float64"
          },
          "metadata": {}
        }
      ]
    },
    {
      "metadata": {},
      "cell_type": "markdown",
      "source": "\nThe crawler recorded the date it last saw any listing, which allows us to determine on what day a listing was removed, presumably because the car was sold.\n\nThe last three days contain a disproportionate amount of 'last seen' values. Given that these are 6-10x the values from the previous days, it's unlikely that there was a massive spike in sales, and more likely that these values are to do with the crawling period ending and don't indicate car sales."
    },
    {
      "metadata": {
        "trusted": true
      },
      "cell_type": "code",
      "source": "(autos[\"ad_created\"]\n        .str[:10]\n        .value_counts(normalize=True, dropna=False)\n        .sort_index()\n        )",
      "execution_count": 22,
      "outputs": [
        {
          "output_type": "execute_result",
          "execution_count": 22,
          "data": {
            "text/plain": "2015-06-11    0.000021\n2015-08-10    0.000021\n2015-09-09    0.000021\n2015-11-10    0.000021\n2015-12-05    0.000021\n2015-12-30    0.000021\n2016-01-03    0.000021\n2016-01-07    0.000021\n2016-01-10    0.000041\n2016-01-13    0.000021\n2016-01-14    0.000021\n2016-01-16    0.000021\n2016-01-22    0.000021\n2016-01-27    0.000062\n2016-01-29    0.000021\n2016-02-01    0.000021\n2016-02-02    0.000041\n2016-02-05    0.000041\n2016-02-07    0.000021\n2016-02-08    0.000021\n2016-02-09    0.000021\n2016-02-11    0.000021\n2016-02-12    0.000041\n2016-02-14    0.000041\n2016-02-16    0.000021\n2016-02-17    0.000021\n2016-02-18    0.000041\n2016-02-19    0.000062\n2016-02-20    0.000041\n2016-02-21    0.000062\n                ...   \n2016-03-09    0.033151\n2016-03-10    0.031895\n2016-03-11    0.032904\n2016-03-12    0.036755\n2016-03-13    0.017008\n2016-03-14    0.035190\n2016-03-15    0.034016\n2016-03-16    0.030125\n2016-03-17    0.031278\n2016-03-18    0.013590\n2016-03-19    0.033687\n2016-03-20    0.037949\n2016-03-21    0.037579\n2016-03-22    0.032801\n2016-03-23    0.032060\n2016-03-24    0.029280\n2016-03-25    0.031751\n2016-03-26    0.032266\n2016-03-27    0.030989\n2016-03-28    0.034984\n2016-03-29    0.034037\n2016-03-30    0.033501\n2016-03-31    0.031875\n2016-04-01    0.033687\n2016-04-02    0.035149\n2016-04-03    0.038855\n2016-04-04    0.036858\n2016-04-05    0.011819\n2016-04-06    0.003253\n2016-04-07    0.001256\nName: ad_created, Length: 76, dtype: float64"
          },
          "metadata": {}
        }
      ]
    },
    {
      "metadata": {},
      "cell_type": "markdown",
      "source": "There is a large variety of ad created dates. Most fall within 1-2 months of the listing date, but a few are quite old, with the oldest at around 9 months."
    },
    {
      "metadata": {
        "trusted": true
      },
      "cell_type": "code",
      "source": "autos[\"registration_year\"].describe()",
      "execution_count": 23,
      "outputs": [
        {
          "output_type": "execute_result",
          "execution_count": 23,
          "data": {
            "text/plain": "count    48565.000000\nmean      2004.755421\nstd         88.643887\nmin       1000.000000\n25%       1999.000000\n50%       2004.000000\n75%       2008.000000\nmax       9999.000000\nName: registration_year, dtype: float64"
          },
          "metadata": {}
        }
      ]
    },
    {
      "metadata": {},
      "cell_type": "markdown",
      "source": "The year that the car was first registered will likely indicate the age of the car. Looking at this column, we note some odd values. The minimum value is 1000, long before cars were invented and the maximum is 9999, many years into the future."
    },
    {
      "metadata": {},
      "cell_type": "markdown",
      "source": "# Dealing with Incorrect Registration Year Data"
    },
    {
      "metadata": {},
      "cell_type": "markdown",
      "source": "Because a car can't be first registered after the listing was seen, any vehicle with a registration year above 2016 is definitely inaccurate. Determining the earliest valid year is more difficult. Realistically, it could be somewhere in the first few decades of the 1900s.\n\nLet's count the number of listings with cars that fall outside the 1900 - 2016 interval and see if it's safe to remove those rows entirely, or if we need more custom logic."
    },
    {
      "metadata": {
        "trusted": true
      },
      "cell_type": "code",
      "source": "(~autos[\"registration_year\"].between(1900,2016)).sum() / autos.shape[0]",
      "execution_count": 24,
      "outputs": [
        {
          "output_type": "execute_result",
          "execution_count": 24,
          "data": {
            "text/plain": "0.038793369710697"
          },
          "metadata": {}
        }
      ]
    },
    {
      "metadata": {},
      "cell_type": "markdown",
      "source": "Given that this is less than 4% of our data, we will remove these rows."
    },
    {
      "metadata": {
        "trusted": true
      },
      "cell_type": "code",
      "source": "# Many ways to select rows in a dataframe that fall within a value range for a column.\n# Using `Series.between()` is one way.\nautos = autos[autos[\"registration_year\"].between(1900,2016)]\nautos[\"registration_year\"].value_counts(normalize=True).head(10)",
      "execution_count": 25,
      "outputs": [
        {
          "output_type": "execute_result",
          "execution_count": 25,
          "data": {
            "text/plain": "2000    0.067608\n2005    0.062895\n1999    0.062060\n2004    0.057904\n2003    0.057818\n2006    0.057197\n2001    0.056468\n2002    0.053255\n1998    0.050620\n2007    0.048778\nName: registration_year, dtype: float64"
          },
          "metadata": {}
        }
      ]
    },
    {
      "metadata": {},
      "cell_type": "markdown",
      "source": "It appears that most of the vehicles were first registered in the past 20 years."
    },
    {
      "metadata": {},
      "cell_type": "markdown",
      "source": "# Exploring Price by Brand"
    },
    {
      "metadata": {
        "trusted": true
      },
      "cell_type": "code",
      "source": "autos[\"brand\"].value_counts(normalize=True)",
      "execution_count": 26,
      "outputs": [
        {
          "output_type": "execute_result",
          "execution_count": 26,
          "data": {
            "text/plain": "volkswagen        0.211264\nbmw               0.110045\nopel              0.107581\nmercedes_benz     0.096463\naudi              0.086566\nford              0.069900\nrenault           0.047150\npeugeot           0.029841\nfiat              0.025642\nseat              0.018273\nskoda             0.016409\nnissan            0.015274\nmazda             0.015188\nsmart             0.014160\ncitroen           0.014010\ntoyota            0.012703\nhyundai           0.010025\nsonstige_autos    0.009811\nvolvo             0.009147\nmini              0.008762\nmitsubishi        0.008226\nhonda             0.007840\nkia               0.007069\nalfa_romeo        0.006641\nporsche           0.006127\nsuzuki            0.005934\nchevrolet         0.005698\nchrysler          0.003513\ndacia             0.002635\ndaihatsu          0.002506\njeep              0.002271\nsubaru            0.002142\nland_rover        0.002099\nsaab              0.001649\njaguar            0.001564\ndaewoo            0.001500\ntrabant           0.001392\nrover             0.001328\nlancia            0.001071\nlada              0.000578\nName: brand, dtype: float64"
          },
          "metadata": {}
        }
      ]
    },
    {
      "metadata": {},
      "cell_type": "markdown",
      "source": "There are lots of brands that don't have a significant percentage of listings, so we will limit our analysis to brands representing more than 5% of total listings."
    },
    {
      "metadata": {
        "trusted": true
      },
      "cell_type": "code",
      "source": "brand_counts = autos[\"brand\"].value_counts(normalize=True)\ncommon_brands = brand_counts[brand_counts > .05].index\nprint(common_brands)",
      "execution_count": 27,
      "outputs": [
        {
          "output_type": "stream",
          "text": "Index(['volkswagen', 'bmw', 'opel', 'mercedes_benz', 'audi', 'ford'], dtype='object')\n",
          "name": "stdout"
        }
      ]
    },
    {
      "metadata": {
        "trusted": true
      },
      "cell_type": "code",
      "source": "brand_mean_prices = {}\nfor item in common_brands:\n    brand_only = autos[autos[\"brand\"] == item]\n    mean_price = brand_only[\"price\"].mean()\n    brand_mean_prices[item] = int(mean_price)\n    \nbrand_mean_prices",
      "execution_count": 31,
      "outputs": [
        {
          "output_type": "execute_result",
          "execution_count": 31,
          "data": {
            "text/plain": "{'volkswagen': 5402,\n 'bmw': 8332,\n 'opel': 2975,\n 'mercedes_benz': 8628,\n 'audi': 9336,\n 'ford': 3749}"
          },
          "metadata": {}
        }
      ]
    },
    {
      "metadata": {},
      "cell_type": "markdown",
      "source": "We observed that in the top 6 brands, there's a distinct price gap.\n\n- Audi, BMW and Mercedes Benz are more expensive\n- Ford and Opel are less expensive\n- Volkswagen is in between"
    },
    {
      "metadata": {},
      "cell_type": "markdown",
      "source": "# Exploring Mileage"
    },
    {
      "metadata": {
        "trusted": true
      },
      "cell_type": "code",
      "source": "# calculate the mean mileage and mean price for each of the top brands, storing the results in a dictionary.\nbrand_mean_mileage = {}\n\nfor brand in common_brands:\n    brand_only = autos[autos[\"brand\"] == brand]\n    mean_mileage = brand_only[\"odometer_km\"].mean()\n    brand_mean_mileage[brand] = int(mean_mileage)\n    \n# Convert both dictionaries to series objects\nmean_mileage = pd.Series(brand_mean_mileage).sort_values(ascending=False)\nmean_prices = pd.Series(brand_mean_prices).sort_values(ascending=False)\n\n# Create a dataframe from the first series object using the dataframe constructor.\ndf = pd.DataFrame(mean_prices, columns=['mean_price'])\n\n# Assign the other series as a new column in this dataframe.\ndf[\"mean_mileage\"] = mean_mileage\n\ndf",
      "execution_count": 34,
      "outputs": [
        {
          "output_type": "execute_result",
          "execution_count": 34,
          "data": {
            "text/html": "<div>\n<style scoped>\n    .dataframe tbody tr th:only-of-type {\n        vertical-align: middle;\n    }\n\n    .dataframe tbody tr th {\n        vertical-align: top;\n    }\n\n    .dataframe thead th {\n        text-align: right;\n    }\n</style>\n<table border=\"1\" class=\"dataframe\">\n  <thead>\n    <tr style=\"text-align: right;\">\n      <th></th>\n      <th>mean_price</th>\n      <th>mean_mileage</th>\n    </tr>\n  </thead>\n  <tbody>\n    <tr>\n      <th>audi</th>\n      <td>9336</td>\n      <td>129157</td>\n    </tr>\n    <tr>\n      <th>mercedes_benz</th>\n      <td>8628</td>\n      <td>130788</td>\n    </tr>\n    <tr>\n      <th>bmw</th>\n      <td>8332</td>\n      <td>132572</td>\n    </tr>\n    <tr>\n      <th>volkswagen</th>\n      <td>5402</td>\n      <td>128707</td>\n    </tr>\n    <tr>\n      <th>ford</th>\n      <td>3749</td>\n      <td>124266</td>\n    </tr>\n    <tr>\n      <th>opel</th>\n      <td>2975</td>\n      <td>129310</td>\n    </tr>\n  </tbody>\n</table>\n</div>",
            "text/plain": "               mean_price  mean_mileage\naudi                 9336        129157\nmercedes_benz        8628        130788\nbmw                  8332        132572\nvolkswagen           5402        128707\nford                 3749        124266\nopel                 2975        129310"
          },
          "metadata": {}
        }
      ]
    },
    {
      "metadata": {},
      "cell_type": "markdown",
      "source": "The range of car mileages does not vary as much as the prices do by brand, instead all falling within 10% for the top brands. There is a slight trend to the more expensive vehicles having higher mileage, with the less expensive vehicles having lower mileage."
    }
  ],
  "metadata": {
    "kernelspec": {
      "name": "python36",
      "display_name": "Python 3.6",
      "language": "python"
    },
    "language_info": {
      "mimetype": "text/x-python",
      "nbconvert_exporter": "python",
      "name": "python",
      "pygments_lexer": "ipython3",
      "version": "3.6.6",
      "file_extension": ".py",
      "codemirror_mode": {
        "version": 3,
        "name": "ipython"
      }
    }
  },
  "nbformat": 4,
  "nbformat_minor": 2
}