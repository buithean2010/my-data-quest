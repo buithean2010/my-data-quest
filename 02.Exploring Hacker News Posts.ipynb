{
  "cells": [
    {
      "metadata": {
        "collapsed": true
      },
      "cell_type": "markdown",
      "source": "# Exploring Hacker News Posts"
    },
    {
      "metadata": {},
      "cell_type": "markdown",
      "source": "In this project, we'll compare two different types of posts from [Hacker News](https://news.ycombinator.com), a popular site where technology related stories (or 'posts') are voted and commented upon. The two types of posts we'll explore begin with either Ask HN or Show HN.\n\nUsers submit Ask HN posts to ask the Hacker News community a specific question, such as \"What is the best online course you've ever taken?\" Likewise, users submit Show HN posts to show the Hacker News community a project, product, or just generally something interesting.\n\nWe'll specifically compare these two types of posts to determine the following:\n\n- Do Ask HN or Show HN receive more comments on average?\n- Do posts created at a certain time receive more comments on average?\n\nIt should be noted that the data set we're working with was reduced from almost 300,000 rows to approximately 20,000 rows by removing all submissions that did not receive any comments, and then randomly sampling from the remaining submissions.\n\n"
    },
    {
      "metadata": {},
      "cell_type": "markdown",
      "source": "# Introduction"
    },
    {
      "metadata": {},
      "cell_type": "markdown",
      "source": "First, we'll read in the data and remove the headers."
    },
    {
      "metadata": {
        "trusted": true
      },
      "cell_type": "code",
      "source": "# Read the hacker_news.csv file in as a list of lists.\nimport csv\n\nf = open(\"02_data/hacker_news.csv\", encoding='utf8')\nhn = list(csv.reader(f))\n\nhn[:5]\n\n",
      "execution_count": 1,
      "outputs": [
        {
          "output_type": "execute_result",
          "execution_count": 1,
          "data": {
            "text/plain": "[['id', 'title', 'url', 'num_points', 'num_comments', 'author', 'created_at'],\n ['12224879',\n  'Interactive Dynamic Video',\n  'http://www.interactivedynamicvideo.com/',\n  '386',\n  '52',\n  'ne0phyte',\n  '8/4/2016 11:52'],\n ['10975351',\n  'How to Use Open Source and Shut the Fuck Up at the Same Time',\n  'http://hueniverse.com/2016/01/26/how-to-use-open-source-and-shut-the-fuck-up-at-the-same-time/',\n  '39',\n  '10',\n  'josep2',\n  '1/26/2016 19:30'],\n ['11964716',\n  \"Florida DJs May Face Felony for April Fools' Water Joke\",\n  'http://www.thewire.com/entertainment/2013/04/florida-djs-april-fools-water-joke/63798/',\n  '2',\n  '1',\n  'vezycash',\n  '6/23/2016 22:20'],\n ['11919867',\n  'Technology ventures: From Idea to Enterprise',\n  'https://www.amazon.com/Technology-Ventures-Enterprise-Thomas-Byers/dp/0073523429',\n  '3',\n  '1',\n  'hswarna',\n  '6/17/2016 0:01']]"
          },
          "metadata": {}
        }
      ]
    },
    {
      "metadata": {},
      "cell_type": "markdown",
      "source": "# Removing Headers from a List of Lists"
    },
    {
      "metadata": {
        "trusted": true
      },
      "cell_type": "code",
      "source": "headers = hn[0]\n\nhn = hn[1:]\n\nprint(headers)\n\nprint(hn[:5])",
      "execution_count": 2,
      "outputs": [
        {
          "output_type": "stream",
          "text": "['id', 'title', 'url', 'num_points', 'num_comments', 'author', 'created_at']\n[['12224879', 'Interactive Dynamic Video', 'http://www.interactivedynamicvideo.com/', '386', '52', 'ne0phyte', '8/4/2016 11:52'], ['10975351', 'How to Use Open Source and Shut the Fuck Up at the Same Time', 'http://hueniverse.com/2016/01/26/how-to-use-open-source-and-shut-the-fuck-up-at-the-same-time/', '39', '10', 'josep2', '1/26/2016 19:30'], ['11964716', \"Florida DJs May Face Felony for April Fools' Water Joke\", 'http://www.thewire.com/entertainment/2013/04/florida-djs-april-fools-water-joke/63798/', '2', '1', 'vezycash', '6/23/2016 22:20'], ['11919867', 'Technology ventures: From Idea to Enterprise', 'https://www.amazon.com/Technology-Ventures-Enterprise-Thomas-Byers/dp/0073523429', '3', '1', 'hswarna', '6/17/2016 0:01'], ['10301696', 'Note by Note: The Making of Steinway L1037 (2007)', 'http://www.nytimes.com/2007/11/07/movies/07stein.html?_r=0', '8', '2', 'walterbell', '9/30/2015 4:12']]\n",
          "name": "stdout"
        }
      ]
    },
    {
      "metadata": {},
      "cell_type": "markdown",
      "source": "We can see above that the data set contains the title of the posts, the number of comments for each post, and the date the post was created. Let's start by exploring the number of comments for each type of post."
    },
    {
      "metadata": {},
      "cell_type": "markdown",
      "source": "# Extracting Ask HN and Show HN Posts"
    },
    {
      "metadata": {},
      "cell_type": "markdown",
      "source": "First, we'll identify posts that begin with either Ask HN or Show HN and separate the data for those two types of posts into different lists. Separating the data makes it easier to analyze in the following steps."
    },
    {
      "metadata": {
        "trusted": true
      },
      "cell_type": "code",
      "source": "ask_posts = []\nshow_posts =[]\nother_posts = []\n\nfor row in hn:\n    title = row[1]\n    if (title.lower().startswith(\"ask hn\")):\n        ask_posts.append(row)\n    elif (title.lower().startswith(\"show hn\")):\n        show_posts.append(row)\n    else:\n        other_posts.append(row)\n    \nprint(len(ask_posts))\nprint(len(show_posts))\nprint(len(other_posts))",
      "execution_count": 3,
      "outputs": [
        {
          "output_type": "stream",
          "text": "1744\n1162\n17194\n",
          "name": "stdout"
        }
      ]
    },
    {
      "metadata": {},
      "cell_type": "markdown",
      "source": "# Calculating the Average Number of Comments for Ask HN and Show HN Posts"
    },
    {
      "metadata": {},
      "cell_type": "markdown",
      "source": "Now that we separated ask posts and show posts into different lists, we'll calculate the average number of comments each type of post receives."
    },
    {
      "metadata": {
        "trusted": true
      },
      "cell_type": "code",
      "source": "# average number of comments on ask posts\ntotal_ask_comments = 0\n\nfor row in ask_posts:\n    total_ask_comments += int(row[4])\n\navg_ask_comments = total_ask_comments/len(ask_posts)\n\n# average number of comments on show posts\ntotal_show_comments = 0\nfor row in show_posts:\n    total_show_comments += int(row[4])\n\navg_show_comments = total_show_comments/len(show_posts)\n\nprint(\"avg_ask_comments = {}\".format(avg_ask_comments))\nprint(\"avg_show_comments = {}\".format(avg_show_comments))\n",
      "execution_count": 4,
      "outputs": [
        {
          "output_type": "stream",
          "text": "avg_ask_comments = 14.038417431192661\navg_show_comments = 10.31669535283993\n",
          "name": "stdout"
        }
      ]
    },
    {
      "metadata": {},
      "cell_type": "markdown",
      "source": "On average, ask posts in our sample receive approximately 14 comments, whereas show posts receive approximately 10. Since ask posts are more likely to receive comments, we'll focus our remaining analysis just on these posts."
    },
    {
      "metadata": {},
      "cell_type": "markdown",
      "source": "# Finding the Amount of Ask Posts and Comments by Hour Created"
    },
    {
      "metadata": {},
      "cell_type": "markdown",
      "source": "Next, we'll determine if we can maximize the amount of comments an ask post receives by creating it at a certain time. First, we'll find the amount of ask posts created during each hour of day, along with the number of comments those posts received. Then, we'll calculate the average amount of comments ask posts created at each hour of the day receive."
    },
    {
      "metadata": {
        "trusted": true
      },
      "cell_type": "code",
      "source": "import datetime as dt\n\nresult_list = []\n\nfor item in ask_posts:\n    result_list.append([item[6], int(item[4])])\n    \ncounts_by_hour = {}\ncomments_by_hour = {}\n\nfor item in result_list:\n    hour = dt.datetime.strptime(item[0], \"%m/%d/%Y %H:%M\").strftime(\"%H\")\n    if hour in counts_by_hour:\n        counts_by_hour[hour] += 1\n        comments_by_hour[hour] += int(item[1])\n    else:\n        counts_by_hour[hour] = 1\n        comments_by_hour[hour] = int(item[1])\n\ncomments_by_hour",
      "execution_count": 5,
      "outputs": [
        {
          "output_type": "execute_result",
          "execution_count": 5,
          "data": {
            "text/plain": "{'09': 251,\n '13': 1253,\n '10': 793,\n '14': 1416,\n '16': 1814,\n '23': 543,\n '12': 687,\n '17': 1146,\n '15': 4477,\n '21': 1745,\n '20': 1722,\n '02': 1381,\n '18': 1439,\n '03': 421,\n '05': 464,\n '19': 1188,\n '01': 683,\n '22': 479,\n '08': 492,\n '04': 337,\n '00': 447,\n '06': 397,\n '07': 267,\n '11': 641}"
          },
          "metadata": {}
        }
      ]
    },
    {
      "metadata": {},
      "cell_type": "markdown",
      "source": "# Calculating the Average Number of Comments for Ask HN Posts by Hour"
    },
    {
      "metadata": {
        "trusted": true
      },
      "cell_type": "code",
      "source": "avg_by_hour = []\n\nfor item in comments_by_hour:\n    avg_by_hour.append([item, comments_by_hour[item]/counts_by_hour[item]])\n\navg_by_hour[:10]",
      "execution_count": 6,
      "outputs": [
        {
          "output_type": "execute_result",
          "execution_count": 6,
          "data": {
            "text/plain": "[['09', 5.5777777777777775],\n ['13', 14.741176470588234],\n ['10', 13.440677966101696],\n ['14', 13.233644859813085],\n ['16', 16.796296296296298],\n ['23', 7.985294117647059],\n ['12', 9.41095890410959],\n ['17', 11.46],\n ['15', 38.5948275862069],\n ['21', 16.009174311926607]]"
          },
          "metadata": {}
        }
      ]
    },
    {
      "metadata": {},
      "cell_type": "markdown",
      "source": "# Sorting and Printing Values from a List of Lists"
    },
    {
      "metadata": {
        "trusted": true
      },
      "cell_type": "code",
      "source": "swap_avg_by_hour = []\n\nfor item in avg_by_hour:\n    swap_avg_by_hour.append([item[1], item[0]])\n    \nprint(swap_avg_by_hour)\n\nsorted_swap = sorted(swap_avg_by_hour, reverse = True)",
      "execution_count": 8,
      "outputs": [
        {
          "output_type": "stream",
          "text": "[[5.5777777777777775, '09'], [14.741176470588234, '13'], [13.440677966101696, '10'], [13.233644859813085, '14'], [16.796296296296298, '16'], [7.985294117647059, '23'], [9.41095890410959, '12'], [11.46, '17'], [38.5948275862069, '15'], [16.009174311926607, '21'], [21.525, '20'], [23.810344827586206, '02'], [13.20183486238532, '18'], [7.796296296296297, '03'], [10.08695652173913, '05'], [10.8, '19'], [11.383333333333333, '01'], [6.746478873239437, '22'], [10.25, '08'], [7.170212765957447, '04'], [8.127272727272727, '00'], [9.022727272727273, '06'], [7.852941176470588, '07'], [11.051724137931034, '11']]\n",
          "name": "stdout"
        }
      ]
    },
    {
      "metadata": {
        "trusted": true
      },
      "cell_type": "code",
      "source": "print (\"Top 5 Hours for Ask Posts Comments\")\nfor item in sorted_swap[:5]:\n    template = \"{}: {:.2f} average comments per post\"\n    time_val = dt.datetime.strptime(item[1], \"%H\").strftime(\"%H:%M\")\n    print(template.format(time_val, item[0]))",
      "execution_count": 10,
      "outputs": [
        {
          "output_type": "stream",
          "text": "Top 5 Hours for Ask Posts Comments\n15:00: 38.59 average comments per post\n02:00: 23.81 average comments per post\n20:00: 21.52 average comments per post\n16:00: 16.80 average comments per post\n21:00: 16.01 average comments per post\n",
          "name": "stdout"
        }
      ]
    },
    {
      "metadata": {},
      "cell_type": "markdown",
      "source": "The hour that receives the most comments per post on average is 15:00, with an average of 38.59 comments per post. There's about a 60% increase in the number of comments between the hours with the highest and second highest average number of comments.\n"
    },
    {
      "metadata": {},
      "cell_type": "markdown",
      "source": "# Conclusion\n\nIn this project, we analyzed ask posts and show posts to determine which type of post and time receive the most comments on average. Based on our analysis, to maximize the amount of comments a post receives, we'd recommend the post be categorized as ask post and created between 15:00 and 16:00 (3:00 pm est - 4:00 pm est).\n\nHowever, it should be noted that the data set we analyzed excluded posts without any comments. Given that, it's more accurate to say that of the posts that received comments, ask posts received more comments on average and ask posts created between 15:00 and 16:00 (3:00 pm est - 4:00 pm est) received the most comments on average."
    },
    {
      "metadata": {
        "trusted": true
      },
      "cell_type": "code",
      "source": "",
      "execution_count": null,
      "outputs": []
    }
  ],
  "metadata": {
    "kernelspec": {
      "name": "python36",
      "display_name": "Python 3.6",
      "language": "python"
    },
    "language_info": {
      "mimetype": "text/x-python",
      "nbconvert_exporter": "python",
      "name": "python",
      "pygments_lexer": "ipython3",
      "version": "3.6.6",
      "file_extension": ".py",
      "codemirror_mode": {
        "version": 3,
        "name": "ipython"
      }
    }
  },
  "nbformat": 4,
  "nbformat_minor": 2
}