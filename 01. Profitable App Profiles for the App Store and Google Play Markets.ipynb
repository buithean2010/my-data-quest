{
  "cells": [
    {
      "metadata": {
        "collapsed": true,
        "trusted": false
      },
      "cell_type": "markdown",
      "source": "# Profitable App Profiles for the App Store and Google Play Markets"
    },
    {
      "metadata": {
        "trusted": true
      },
      "cell_type": "markdown",
      "source": "Our aim in this project is to find mobile app profiles that are profitable for the App Store and Google Play markets. We're working as data analysts for a company that builds Android and iOS mobile apps, and our job is to enable our team of developers to make data-driven decisions with respect to the kind of apps they build.\n\nAt our company, we only build apps that are free to download and install, and our main source of revenue consists of in-app ads. This means that our revenue for any given app is mostly influenced by the number of users that use our app. Our goal for this project is to analyze data to help our developers understand what kinds of apps are likely to attract more users.\n"
    },
    {
      "metadata": {},
      "cell_type": "markdown",
      "source": "# Opening and Exploring the Data"
    },
    {
      "metadata": {},
      "cell_type": "markdown",
      "source": "As of September 2018, there were approximately 2 million iOS apps available on the App Store, and 2.1 million Android apps on Google Play.\n\nCollecting data for over four million apps requires a significant amount of time and money, so we'll try to analyze a sample of data instead. To avoid spending resources with collecting new data ourselves, we should first try to see whether we can find any relevant existing data at no cost. Luckily, these are two data sets that seem suitable for our purpose:\n- [A data set](https://www.kaggle.com/lava18/google-play-store-apps/home) containing data about approximately 10,000 Android apps from Google Play; the data was collected in August 2018.\n- [A data set](https://www.kaggle.com/ramamet4/app-store-apple-data-set-10k-apps/home) containing data about approximately 7,000 iOS apps from the App Store; the data was collected in July 2017.\n\nLet's start by opening the two data sets and then continue with exploring the data."
    },
    {
      "metadata": {
        "trusted": true
      },
      "cell_type": "code",
      "source": "from csv import reader\n# Open AppleStore.csv\nopened_file = open('01_data/AppleStore.csv', encoding='utf8')\nread_file = reader(opened_file)\nap_full_data = list(read_file)\nap_header = ap_full_data[0]\nap_data = ap_full_data[1:]\n\n# Open googleplaystore.csv\nopened_file = open('01_data/googleplaystore.csv', encoding='utf8')\nread_file = reader(opened_file)\ngg_full_data = list(read_file)\ngg_header = gg_full_data[0]\ngg_data = gg_full_data[1:]",
      "execution_count": 1,
      "outputs": []
    },
    {
      "metadata": {},
      "cell_type": "markdown",
      "source": "To make it easier to explore the two data sets, we'll first write a function named explore_data() that we can use repeatedly to explore rows in a more readable way. We'll also add an option for our function to show the number of rows and columns for any data set."
    },
    {
      "metadata": {
        "trusted": true
      },
      "cell_type": "code",
      "source": "def explore_data(dataset, start, end, rows_and_columns=False):\n    dataset_slice = dataset[start:end]    \n    for row in dataset_slice:\n        print(row)\n        print('\\n') # adds a new (empty) line after each row\n\n    if rows_and_columns:\n        print('Number of rows:', len(dataset))\n        print('Number of columns:', len(dataset[0]))",
      "execution_count": 2,
      "outputs": []
    },
    {
      "metadata": {},
      "cell_type": "markdown",
      "source": "Now, let's take a look at Android dataset."
    },
    {
      "metadata": {
        "trusted": true
      },
      "cell_type": "code",
      "source": "print(gg_header)\nprint('\\n')\nexplore_data(gg_data, 0, 2, True)",
      "execution_count": 3,
      "outputs": [
        {
          "output_type": "stream",
          "text": "['App', 'Category', 'Rating', 'Reviews', 'Size', 'Installs', 'Type', 'Price', 'Content Rating', 'Genres', 'Last Updated', 'Current Ver', 'Android Ver']\n\n\n['Photo Editor & Candy Camera & Grid & ScrapBook', 'ART_AND_DESIGN', '4.1', '159', '19M', '10,000+', 'Free', '0', 'Everyone', 'Art & Design', 'January 7, 2018', '1.0.0', '4.0.3 and up']\n\n\n['Coloring book moana', 'ART_AND_DESIGN', '3.9', '967', '14M', '500,000+', 'Free', '0', 'Everyone', 'Art & Design;Pretend Play', 'January 15, 2018', '2.0.0', '4.0.3 and up']\n\n\nNumber of rows: 10841\nNumber of columns: 13\n",
          "name": "stdout"
        }
      ]
    },
    {
      "metadata": {},
      "cell_type": "markdown",
      "source": "Now, let's take a look at App dataset."
    },
    {
      "metadata": {
        "trusted": true
      },
      "cell_type": "code",
      "source": "print(ap_header)\nprint('\\n')\nexplore_data(ap_data, 0, 2, True)",
      "execution_count": 4,
      "outputs": [
        {
          "output_type": "stream",
          "text": "['id', 'track_name', 'size_bytes', 'currency', 'price', 'rating_count_tot', 'rating_count_ver', 'user_rating', 'user_rating_ver', 'ver', 'cont_rating', 'prime_genre', 'sup_devices.num', 'ipadSc_urls.num', 'lang.num', 'vpp_lic']\n\n\n['284882215', 'Facebook', '389879808', 'USD', '0.0', '2974676', '212', '3.5', '3.5', '95.0', '4+', 'Social Networking', '37', '1', '29', '1']\n\n\n['389801252', 'Instagram', '113954816', 'USD', '0.0', '2161558', '1289', '4.5', '4.0', '10.23', '12+', 'Photo & Video', '37', '0', '29', '1']\n\n\nNumber of rows: 7197\nNumber of columns: 16\n",
          "name": "stdout"
        }
      ]
    },
    {
      "metadata": {},
      "cell_type": "markdown",
      "source": "We see that the Google Play data set has 10841 apps and 13 columns. At a quick glance, the columns that might be useful for the purpose of our analysis are 'App', 'Category', 'Reviews', 'Installs', 'Type', 'Price', and 'Genres'.\n\nWe have 7197 iOS apps in this data set, and the columns that seem interesting are: 'track_name', 'currency', 'price', 'rating_count_tot', 'rating_count_ver', and 'prime_genre'. Not all column names are self-explanatory in this case, but details about each column can be found in the data set [documentation](https://www.kaggle.com/ramamet4/app-store-apple-data-set-10k-apps/home)."
    },
    {
      "metadata": {},
      "cell_type": "markdown",
      "source": "# Deleting Wrong Data"
    },
    {
      "metadata": {},
      "cell_type": "markdown",
      "source": "Before beginning our analysis, we need to make sure the data we analyze is accurate, otherwise the results of our analysis will be wrong. This means that we need to:\n\n- Detect inaccurate data, and correct or remove it.\n- Detect duplicate data, and remove the duplicates.\n\nRecall that at our company, we only build apps that are free to download and install, and that are directed toward an English-speaking audience. This means that we'll need to:\n\n- Remove non-English apps like 爱奇艺PPS -《欢乐颂2》电视剧热播.\n- Remove apps that aren't free."
    },
    {
      "metadata": {},
      "cell_type": "markdown",
      "source": "<quote>\n<i>This process of preparing our data for analysis is called data cleaning. Data cleaning is done before the analysis; it includes removing or correcting wrong data, removing duplicate data, and modifying the data to fit the purpose of our analysis.\n<br/>\n<br/>\nIt's often said that data scientists spend around 80% of their time cleaning data, and only about 20% actually analyzing (cleaned) data. In this project, we'll see that this is not far from the truth.</i>\n</quote>"
    },
    {
      "metadata": {},
      "cell_type": "markdown",
      "source": "The Google Play data set has a dedicated discussion section, and we can see that [one of the discussions](https://www.kaggle.com/lava18/google-play-store-apps/discussion/66015) outlines an error for row 10472. Let's print this row and compare it against the header and another row that is correct."
    },
    {
      "metadata": {
        "trusted": true
      },
      "cell_type": "code",
      "source": "print(gg_data[10472])  # incorrect row\nprint('\\n')\nprint(gg_header)  # header\nprint('\\n')\nprint(gg_data[0])      # correct row",
      "execution_count": 5,
      "outputs": [
        {
          "output_type": "stream",
          "text": "['Life Made WI-Fi Touchscreen Photo Frame', '1.9', '19', '3.0M', '1,000+', 'Free', '0', 'Everyone', '', 'February 11, 2018', '1.0.19', '4.0 and up']\n\n\n['App', 'Category', 'Rating', 'Reviews', 'Size', 'Installs', 'Type', 'Price', 'Content Rating', 'Genres', 'Last Updated', 'Current Ver', 'Android Ver']\n\n\n['Photo Editor & Candy Camera & Grid & ScrapBook', 'ART_AND_DESIGN', '4.1', '159', '19M', '10,000+', 'Free', '0', 'Everyone', 'Art & Design', 'January 7, 2018', '1.0.0', '4.0.3 and up']\n",
          "name": "stdout"
        }
      ]
    },
    {
      "metadata": {},
      "cell_type": "markdown",
      "source": "The row 10472 corresponds to the app Life Made WI-Fi Touchscreen Photo Frame, and we can see that the rating is 19. This is clearly off because the maximum rating for a Google Play app is 5. As a consequence, we'll delete this row."
    },
    {
      "metadata": {
        "trusted": true
      },
      "cell_type": "code",
      "source": "del gg_data[10472]  # don't run this more than once",
      "execution_count": 6,
      "outputs": []
    },
    {
      "metadata": {},
      "cell_type": "markdown",
      "source": "# Removing Duplicate Entries\n## Part One"
    },
    {
      "metadata": {},
      "cell_type": "markdown",
      "source": "If we explore the Google Play data set long enough, we'll find that some apps have more than one entry. For instance, the application Instagram has four entries:"
    },
    {
      "metadata": {
        "trusted": true
      },
      "cell_type": "code",
      "source": "for item in gg_data:\n    name = item[0]\n    if name == 'Instagram':\n        print(item)",
      "execution_count": 7,
      "outputs": [
        {
          "output_type": "stream",
          "text": "['Instagram', 'SOCIAL', '4.5', '66577313', 'Varies with device', '1,000,000,000+', 'Free', '0', 'Teen', 'Social', 'July 31, 2018', 'Varies with device', 'Varies with device']\n['Instagram', 'SOCIAL', '4.5', '66577446', 'Varies with device', '1,000,000,000+', 'Free', '0', 'Teen', 'Social', 'July 31, 2018', 'Varies with device', 'Varies with device']\n['Instagram', 'SOCIAL', '4.5', '66577313', 'Varies with device', '1,000,000,000+', 'Free', '0', 'Teen', 'Social', 'July 31, 2018', 'Varies with device', 'Varies with device']\n['Instagram', 'SOCIAL', '4.5', '66509917', 'Varies with device', '1,000,000,000+', 'Free', '0', 'Teen', 'Social', 'July 31, 2018', 'Varies with device', 'Varies with device']\n",
          "name": "stdout"
        }
      ]
    },
    {
      "metadata": {},
      "cell_type": "markdown",
      "source": "In total, there are 1,181 cases where an app occurs more than once:"
    },
    {
      "metadata": {
        "trusted": true
      },
      "cell_type": "code",
      "source": "duplicate_apps = []\nunique_apps = []\n\nfor app in gg_data:\n    name = app[0]\n    if name in unique_apps:\n        duplicate_apps.append(name)\n    else:\n        unique_apps.append(name)\n    \nprint('Number of duplicate apps:', len(duplicate_apps))\nprint('\\n')\nprint('Examples of duplicate apps:', duplicate_apps[:15])",
      "execution_count": 8,
      "outputs": [
        {
          "output_type": "stream",
          "text": "Number of duplicate apps: 1181\n\n\nExamples of duplicate apps: ['Quick PDF Scanner + OCR FREE', 'Box', 'Google My Business', 'ZOOM Cloud Meetings', 'join.me - Simple Meetings', 'Box', 'Zenefits', 'Google Ads', 'Google My Business', 'Slack', 'FreshBooks Classic', 'Insightly CRM', 'QuickBooks Accounting: Invoicing & Expenses', 'HipChat - Chat Built for Teams', 'Xero Accounting Software']\n",
          "name": "stdout"
        }
      ]
    },
    {
      "metadata": {},
      "cell_type": "markdown",
      "source": "We don't want to count certain apps more than once when we analyze data, so we need to remove the duplicate entries and keep only one entry per app. One thing we could do is remove the duplicate rows randomly, but we could probably find a better way.\n\nIf you examine the rows we printed two cells above for the Instagram app, the main difference happens on the fourth position of each row, which corresponds to the number of reviews. The different numbers show that the data was collected at different times. We can use this to build a criterion for keeping rows. We won't remove rows randomly, but rather we'll keep the rows that have the highest number of reviews because the higher the number of reviews, the more reliable the ratings.\n\nTo do that, we will:\n\n- Create a dictionary where each key is a unique app name, and the value is the highest number of reviews of that app\n- Use the dictionary to create a new data set, which will have only one entry per app (and we only select the apps with the highest number of reviews)\n\n"
    },
    {
      "metadata": {},
      "cell_type": "markdown",
      "source": "## Part Two\nLet's start by building the dictionary."
    },
    {
      "metadata": {
        "trusted": true
      },
      "cell_type": "code",
      "source": "reviews_max = {}\nfor app in gg_data:\n    name = app[0]\n    n_reviews = float(app[3])\n    \n    if name in reviews_max and reviews_max[name] < n_reviews:\n        reviews_max[name] = n_reviews\n        \n    elif name not in reviews_max:\n        reviews_max[name] = n_reviews",
      "execution_count": 9,
      "outputs": []
    },
    {
      "metadata": {},
      "cell_type": "markdown",
      "source": "In a previous code cell, we found that there are 1,181 cases where an app occurs more than once, so the length of our dictionary (of unique apps) should be equal to the difference between the length of our data set and 1,181."
    },
    {
      "metadata": {
        "trusted": true
      },
      "cell_type": "code",
      "source": "print('Expected length:', len(gg_data) - 1181)\nprint('Actual length:', len(reviews_max))",
      "execution_count": 10,
      "outputs": [
        {
          "output_type": "stream",
          "text": "Expected length: 9659\nActual length: 9659\n",
          "name": "stdout"
        }
      ]
    },
    {
      "metadata": {},
      "cell_type": "markdown",
      "source": "Now, let's use the reviews_max dictionary to remove the duplicates. For the duplicate cases, we'll only keep the entries with the highest number of reviews. "
    },
    {
      "metadata": {
        "trusted": true
      },
      "cell_type": "code",
      "source": "gg_clean = [] # which will store our new cleaned data set\nalready_added = [] # which will just store app names\nfor item in gg_data:\n    name = item[0]\n    n_reviews = float(item[3])\n    if (n_reviews == reviews_max[name]) and (name not in already_added):\n        gg_clean.append(item)\n        already_added.append(name)",
      "execution_count": 11,
      "outputs": []
    },
    {
      "metadata": {},
      "cell_type": "markdown",
      "source": "Now let's quickly explore the new data set, and confirm that the number of rows is 9,659"
    },
    {
      "metadata": {
        "trusted": true
      },
      "cell_type": "code",
      "source": "explore_data(gg_clean, 0, 2, True)",
      "execution_count": 12,
      "outputs": [
        {
          "output_type": "stream",
          "text": "['Photo Editor & Candy Camera & Grid & ScrapBook', 'ART_AND_DESIGN', '4.1', '159', '19M', '10,000+', 'Free', '0', 'Everyone', 'Art & Design', 'January 7, 2018', '1.0.0', '4.0.3 and up']\n\n\n['U Launcher Lite – FREE Live Cool Themes, Hide Apps', 'ART_AND_DESIGN', '4.7', '87510', '8.7M', '5,000,000+', 'Free', '0', 'Everyone', 'Art & Design', 'August 1, 2018', '1.2.4', '4.0.3 and up']\n\n\nNumber of rows: 9659\nNumber of columns: 13\n",
          "name": "stdout"
        }
      ]
    },
    {
      "metadata": {},
      "cell_type": "markdown",
      "source": "# Removing Non-English Apps"
    },
    {
      "metadata": {},
      "cell_type": "markdown",
      "source": "## Part One"
    },
    {
      "metadata": {},
      "cell_type": "markdown",
      "source": "Remember we use English for the apps we develop at our company, and we'd like to analyze only the apps that are directed toward an English-speaking audience. However, if we explore the data long enough, we'll find that both data sets have apps with names that suggest they are not directed toward an English-speaking audience."
    },
    {
      "metadata": {
        "trusted": true
      },
      "cell_type": "code",
      "source": "print(ap_data[813][1])\nprint(ap_data[6731][1])\n\nprint(gg_clean[4412][0])\nprint(gg_clean[7940][0])",
      "execution_count": 13,
      "outputs": [
        {
          "output_type": "stream",
          "text": "爱奇艺PPS -《欢乐颂2》电视剧热播\n【脱出ゲーム】絶対に最後までプレイしないで 〜謎解き＆ブロックパズル〜\n中国語 AQリスニング\nلعبة تقدر تربح DZ\n",
          "name": "stdout"
        }
      ]
    },
    {
      "metadata": {},
      "cell_type": "markdown",
      "source": "We're not interested in keeping these apps, so we'll remove them. One way to go about this is to remove each app with a name containing a symbol that is not commonly used in English text — English text usually includes letters from the English alphabet, numbers composed of digits from 0 to 9, punctuation marks (., !, ?, ;), and other symbols (+, *, /)."
    },
    {
      "metadata": {},
      "cell_type": "markdown",
      "source": "The numbers corresponding to the characters we commonly use in an English text are all in the range 0 to 127, according to the ASCII (American Standard Code for Information Interchange) system. Based on this number range, we can build a function that detects whether a character belongs to the set of common English characters or not. If the number is equal to or less than 127, then the character belongs to the set of common English characters.\n\nIf an app name contains a character that is greater than 127, then it probably means that the app has a non-English name."
    },
    {
      "metadata": {},
      "cell_type": "markdown",
      "source": "We built this function below, and we use the built-in ord() function to find out the corresponding encoding number of each character."
    },
    {
      "metadata": {
        "trusted": true
      },
      "cell_type": "code",
      "source": "def isEngName(name):\n    for char in name:\n        if ord(char) > 127:\n            return False\n    return True",
      "execution_count": 14,
      "outputs": []
    },
    {
      "metadata": {},
      "cell_type": "markdown",
      "source": "Let's test our function."
    },
    {
      "metadata": {
        "trusted": true
      },
      "cell_type": "code",
      "source": "print(isEngName('Instagram'))\nprint(isEngName('爱奇艺PPS -《欢乐颂2》电视剧热播'))\nprint(isEngName('Docs To Go™ Free Office Suite'))\nprint(isEngName('Instachat 😜'))",
      "execution_count": 15,
      "outputs": [
        {
          "output_type": "stream",
          "text": "True\nFalse\nFalse\nFalse\n",
          "name": "stdout"
        }
      ]
    },
    {
      "metadata": {},
      "cell_type": "markdown",
      "source": "The function seems to work fine, but some English app names use emojis or other symbols (™, — (em dash), – (en dash), etc.) that fall outside of the ASCII range. Because of this, we'll remove useful apps if we use the function in its current form."
    },
    {
      "metadata": {},
      "cell_type": "markdown",
      "source": "## Part Two"
    },
    {
      "metadata": {},
      "cell_type": "markdown",
      "source": "To minimize the impact of data loss, we'll only remove an app if its name has more than three characters with corresponding numbers falling outside the ASCII range. This means all English apps with up to three emoji or other special characters will still be labeled as English. Our filter function is still not perfect, but it should be fairly effective.\n\nLet's edit the function we created in the previous screen, and then use it to filter out the non-English apps."
    },
    {
      "metadata": {
        "trusted": true
      },
      "cell_type": "code",
      "source": "def isEngName(name):\n    invalid_cnt = 0\n    for char in name:\n        if ord(char) > 127:\n            invalid_cnt +=1\n    if invalid_cnt > 3:\n        return False\n    \n    return True",
      "execution_count": 16,
      "outputs": []
    },
    {
      "metadata": {},
      "cell_type": "markdown",
      "source": "Let's test our improved function."
    },
    {
      "metadata": {
        "trusted": true
      },
      "cell_type": "code",
      "source": "print(isEngName('爱奇艺PPS -《欢乐颂2》电视剧热播'))\nprint(isEngName('Docs To Go™ Free Office Suite'))\nprint(isEngName('Instachat 😜'))",
      "execution_count": 17,
      "outputs": [
        {
          "output_type": "stream",
          "text": "False\nTrue\nTrue\n",
          "name": "stdout"
        }
      ]
    },
    {
      "metadata": {},
      "cell_type": "markdown",
      "source": "The function is still not perfect, and very few non-English apps might get past our filter, but this seems good enough at this point in our analysis — we shouldn't spend too much time on optimization at this point.\n\nBelow, we use the is_english() function to filter out the non-English apps for both data sets:"
    },
    {
      "metadata": {
        "trusted": true
      },
      "cell_type": "code",
      "source": "gg_english = []\nfor item in gg_clean:\n    name = item[0]\n    if isEngName(name):\n        gg_english.append(item)\n\nap_english = []\nfor item in ap_data:\n    name = item[1]\n    if isEngName(name):\n        ap_english.append(item)\n        \nexplore_data(gg_english, 0, 3, True)\nprint('\\n')\nexplore_data(ap_english, 0, 3, True)\n    ",
      "execution_count": 18,
      "outputs": [
        {
          "output_type": "stream",
          "text": "['Photo Editor & Candy Camera & Grid & ScrapBook', 'ART_AND_DESIGN', '4.1', '159', '19M', '10,000+', 'Free', '0', 'Everyone', 'Art & Design', 'January 7, 2018', '1.0.0', '4.0.3 and up']\n\n\n['U Launcher Lite – FREE Live Cool Themes, Hide Apps', 'ART_AND_DESIGN', '4.7', '87510', '8.7M', '5,000,000+', 'Free', '0', 'Everyone', 'Art & Design', 'August 1, 2018', '1.2.4', '4.0.3 and up']\n\n\n['Sketch - Draw & Paint', 'ART_AND_DESIGN', '4.5', '215644', '25M', '50,000,000+', 'Free', '0', 'Teen', 'Art & Design', 'June 8, 2018', 'Varies with device', '4.2 and up']\n\n\nNumber of rows: 9614\nNumber of columns: 13\n\n\n['284882215', 'Facebook', '389879808', 'USD', '0.0', '2974676', '212', '3.5', '3.5', '95.0', '4+', 'Social Networking', '37', '1', '29', '1']\n\n\n['389801252', 'Instagram', '113954816', 'USD', '0.0', '2161558', '1289', '4.5', '4.0', '10.23', '12+', 'Photo & Video', '37', '0', '29', '1']\n\n\n['529479190', 'Clash of Clans', '116476928', 'USD', '0.0', '2130805', '579', '4.5', '4.5', '9.24.12', '9+', 'Games', '38', '5', '18', '1']\n\n\nNumber of rows: 6183\nNumber of columns: 16\n",
          "name": "stdout"
        }
      ]
    },
    {
      "metadata": {
        "trusted": true
      },
      "cell_type": "code",
      "source": "",
      "execution_count": null,
      "outputs": []
    }
  ],
  "metadata": {
    "kernelspec": {
      "name": "python36",
      "display_name": "Python 3.6",
      "language": "python"
    },
    "language_info": {
      "mimetype": "text/x-python",
      "nbconvert_exporter": "python",
      "name": "python",
      "pygments_lexer": "ipython3",
      "version": "3.6.6",
      "file_extension": ".py",
      "codemirror_mode": {
        "version": 3,
        "name": "ipython"
      }
    }
  },
  "nbformat": 4,
  "nbformat_minor": 2
}